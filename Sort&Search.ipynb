{
  "nbformat": 4,
  "nbformat_minor": 0,
  "metadata": {
    "colab": {
      "provenance": []
    },
    "kernelspec": {
      "name": "python3",
      "display_name": "Python 3"
    },
    "language_info": {
      "name": "python"
    }
  },
  "cells": [
    {
      "cell_type": "code",
      "execution_count": 2,
      "metadata": {
        "colab": {
          "base_uri": "https://localhost:8080/"
        },
        "id": "TCSbytJiPOa_",
        "outputId": "e044403b-2fd4-4298-8daf-4dea3170b9fe"
      },
      "outputs": [
        {
          "output_type": "execute_result",
          "data": {
            "text/plain": [
              "2"
            ]
          },
          "metadata": {},
          "execution_count": 2
        }
      ],
      "source": [
        "class Search:\n",
        "    def __init__(self):\n",
        "        pass  # Constructor for the Search class\n",
        "\n",
        "    # Linear Search Algorithm\n",
        "    def linear_search(self, arr, key):\n",
        "        for i in range(len(arr)):  # Iterate through the array\n",
        "            if arr[i] == key:  # If key is found, return index\n",
        "                return i\n",
        "        return -1  # Return -1 if key is not found\n",
        "\n",
        "    # Recursive Binary Search Algorithm\n",
        "    def binary_search(self, arr, key, s, e):\n",
        "        if s <= e:\n",
        "            mid = (s + e) // 2  # Find the middle index\n",
        "            if arr[mid] == key:\n",
        "                return mid  # Return index if key is found\n",
        "            elif arr[mid] > key:\n",
        "                return self.binary_search(arr, key, s, mid - 1)  # Search left half\n",
        "            else:\n",
        "                return self.binary_search(arr, key, mid + 1, e)  # Search right half\n",
        "        return -1  # Return -1 if key is not found\n",
        "\n",
        "# Sorting class using Insertion Sort\n",
        "class Sort:\n",
        "    def __init__(self, data):\n",
        "        self.data = data  # Store input data\n",
        "        self.length = len(data)  # Store the length of data\n",
        "\n",
        "    # Insertion Sort Algorithm\n",
        "    def insertion_sort(self):\n",
        "        for i in range(1, self.length):\n",
        "            key = self.data[i]  # Current element to be placed correctly\n",
        "            j = i - 1\n",
        "            while j >= 0 and self.data[j] > key:  # Shift elements if they are greater than key\n",
        "                self.data[j + 1] = self.data[j]\n",
        "                j -= 1\n",
        "            self.data[j + 1] = key  # Place key at the correct position\n",
        "        return self.data  # Return sorted data\n",
        "\n",
        "# Function to check if an array is sorted\n",
        "\n",
        "def is_sorted(arr):\n",
        "    for i in range(1, len(arr)):\n",
        "        if arr[i] < arr[i - 1]:  # If any previous element is greater than the next one, return False\n",
        "            return False\n",
        "    return True  # Return True if array is sorted\n",
        "\n",
        "# Function to perform user-selected search operation\n",
        "def useSearch(arr, key):\n",
        "    print(\"Enter 1 for linear search and 2 for binary search\")\n",
        "    choice = int(input())  # Take user input for choice\n",
        "    search_obj = Search()  # Create an instance of Search class\n",
        "    if choice == 1:\n",
        "        index = search_obj.linear_search(arr, key)  # Perform linear search\n",
        "    else:\n",
        "        if is_sorted(arr):  # Perform binary search only if array is sorted\n",
        "            index = search_obj.binary_search(arr, key, 0, len(arr) - 1)\n",
        "\n",
        "# Function to search for a value using an appropriate search algorithm\n",
        "def search_value(arr, key):\n",
        "    search_obj = Search()  # Create an instance of Search class\n",
        "    if is_sorted(arr):  # If the array is sorted, use binary search\n",
        "        index = search_obj.binary_search(arr, key, 0, len(arr) - 1)\n",
        "    else:\n",
        "        index = search_obj.linear_search(arr, key)  # Otherwise, use linear search\n",
        "\n",
        "    if index != -1:\n",
        "        print(f\"Element {key} found at index {index}\")\n",
        "    else:\n",
        "        print(f\"Element {key} not found in the array\")\n",
        "\n",
        "# Example calls to search methods\n",
        "search_obj = Search()\n",
        "print(search_obj.linear_search(arr=[2, 5, 4, 1, 10], key=7))  # Searching for 7 in unsorted list\n",
        "print(search_obj.binary_search(arr=[1, 2, 3, 4, 5, 6, 7, 8, 9], key=3, s=0, e=8))  # Searching for 3 in sorted list\n"
      ]
    },
    {
      "cell_type": "code",
      "source": [],
      "metadata": {
        "id": "kkJoEtclPR9E"
      },
      "execution_count": null,
      "outputs": []
    }
  ]
}